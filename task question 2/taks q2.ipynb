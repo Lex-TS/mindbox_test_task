{
 "cells": [
  {
   "cell_type": "code",
   "execution_count": 2,
   "id": "5c951dc6",
   "metadata": {},
   "outputs": [
    {
     "name": "stdout",
     "output_type": "stream",
     "text": [
      "Площадь круга: 78.54\n",
      "Площадь треугольника: 6.00\n",
      "Треугольник прямоугольный: True\n",
      "Площадь фигуры: 78.54\n",
      "Площадь фигуры: 6.00\n",
      "Площадь фигуры: 25.00\n"
     ]
    }
   ],
   "source": [
    "# Импорт библиотеки\n",
    "from geometric_shapes import Circle, Triangle, calculate_area\n",
    "\n",
    "# Создание фигур\n",
    "circle = Circle(5)\n",
    "triangle = Triangle(3, 4, 5)\n",
    "\n",
    "# Вычисление площадей\n",
    "print(f\"Площадь круга: {circle.area():.2f}\")\n",
    "print(f\"Площадь треугольника: {triangle.area():.2f}\")\n",
    "\n",
    "# Проверка на прямоугольность\n",
    "print(f\"Треугольник прямоугольный: {triangle.is_right_triangle()}\")\n",
    "\n",
    "from geometric_shapes import Rectangle\n",
    "rectangle = Rectangle(5,5)\n",
    "# Использование полиморфизма\n",
    "shapes = [circle, triangle, rectangle]\n",
    "for shape in shapes:\n",
    "    print(f\"Площадь фигуры: {calculate_area(shape):.2f}\")"
   ]
  },
  {
   "cell_type": "code",
   "execution_count": 1,
   "id": "d9ab0978",
   "metadata": {},
   "outputs": [
    {
     "name": "stderr",
     "output_type": "stream",
     "text": [
      "test_calculate_area_polymorphism (unit_tests.TestGeometry.test_calculate_area_polymorphism)\n",
      "Тест вычисления площади без знания типа фигуры ... ok\n",
      "test_circle_area (unit_tests.TestGeometry.test_circle_area)\n",
      "Тест площади круга радиуса 5 ... ok\n",
      "test_circle_invalid_radius (unit_tests.TestGeometry.test_circle_invalid_radius)\n",
      "Тест валидности круга ... ok\n",
      "test_new_shape_extension (unit_tests.TestGeometry.test_new_shape_extension)\n",
      "Тест легкости добавления новых фигур ... ok\n",
      "test_right_triangle_multiple_cases (unit_tests.TestGeometry.test_right_triangle_multiple_cases)\n",
      "Тест прямоугольности треугольника с несколькими наборами данных ... ok\n",
      "test_triangle_areas_multiple_cases (unit_tests.TestGeometry.test_triangle_areas_multiple_cases)\n",
      "Тест площади треугольника с несколькими наборами данных ... ok\n",
      "test_triangle_validity_multiple_cases (unit_tests.TestGeometry.test_triangle_validity_multiple_cases)\n",
      "Тест валидности треугольника с несколькими наборами данных ... ok\n",
      "\n",
      "----------------------------------------------------------------------\n",
      "Ran 7 tests in 0.006s\n",
      "\n",
      "OK\n"
     ]
    },
    {
     "data": {
      "text/plain": [
       "<unittest.runner.TextTestResult run=7 errors=0 failures=0>"
      ]
     },
     "execution_count": 1,
     "metadata": {},
     "output_type": "execute_result"
    }
   ],
   "source": [
    "import unittest\n",
    "from unit_tests import TestGeometry\n",
    "\n",
    "loader = unittest.TestLoader()\n",
    "suite = loader.loadTestsFromTestCase(TestGeometry)\n",
    "runner = unittest.TextTestRunner(verbosity=2)\n",
    "runner.run(suite)"
   ]
  }
 ],
 "metadata": {
  "kernelspec": {
   "display_name": "Python 3",
   "language": "python",
   "name": "python3"
  },
  "language_info": {
   "codemirror_mode": {
    "name": "ipython",
    "version": 3
   },
   "file_extension": ".py",
   "mimetype": "text/x-python",
   "name": "python",
   "nbconvert_exporter": "python",
   "pygments_lexer": "ipython3",
   "version": "3.11.5"
  }
 },
 "nbformat": 4,
 "nbformat_minor": 5
}
